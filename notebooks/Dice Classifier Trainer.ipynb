{
 "cells": [
  {
   "cell_type": "code",
   "execution_count": 38,
   "metadata": {},
   "outputs": [],
   "source": [
    "import torch\n",
    "from utilities.dataset_tools import load_dice_dataset\n",
    "\n",
    "dataset, dataloader = load_dice_dataset('train')\n",
    "class_from_idx = {v: k for k, v in dataset.class_to_idx.items()}\n",
    "n_classes = len(class_from_idx)\n",
    "\n",
    "torch_device = torch.device('cuda' if torch.cuda.is_available() else 'cpu')\n"
   ]
  },
  {
   "cell_type": "code",
   "execution_count": 2,
   "metadata": {},
   "outputs": [],
   "source": [
    "import matplotlib.pyplot as plt\n",
    "import numpy as np\n",
    "\n",
    "def imshow(img):\n",
    "    npimg = img.numpy()\n",
    "    plt.imshow(np.transpose(npimg, (1, 2, 0)))\n",
    "    plt.show()\n",
    "\n",
    "def show_batch(images, targets):\n",
    "    for image, t in zip(images, targets.tolist()):\n",
    "        imshow(image)\n",
    "        print(class_from_idx[t])\n"
   ]
  },
  {
   "cell_type": "code",
   "execution_count": 37,
   "metadata": {},
   "outputs": [],
   "source": [
    "from architectures.die_net_v2 import DieNet\n",
    "\n",
    "die_net = DieNet()"
   ]
  },
  {
   "cell_type": "markdown",
   "metadata": {},
   "source": [
    "Train it!"
   ]
  },
  {
   "cell_type": "code",
   "execution_count": 4,
   "metadata": {},
   "outputs": [],
   "source": [
    "import torch.optim as optim\n",
    "\n",
    "criterion = nn.CrossEntropyLoss()\n",
    "optimizer = optim.Adam(die_net.parameters(), lr=0.001)"
   ]
  },
  {
   "cell_type": "code",
   "execution_count": 5,
   "metadata": {
    "scrolled": true
   },
   "outputs": [
    {
     "name": "stdout",
     "output_type": "stream",
     "text": [
      "[1, 100] loss: 1.7267863762378692\n",
      "[1, 200] loss: 1.6351789569854736\n",
      "[1, 300] loss: 1.5696976399421692\n",
      "[1, 400] loss: 1.5100800091028213\n",
      "[1, 500] loss: 1.4881608116626739\n",
      "[1, 600] loss: 1.3805503273010253\n",
      "[1, 700] loss: 1.3429132789373397\n",
      "[1, 800] loss: 1.2732155811786652\n",
      "Epoch 1 complete after 1803 seconds\n",
      "[2, 100] loss: 1.2505623602867126\n",
      "[2, 200] loss: 1.1303659921884537\n",
      "[2, 300] loss: 1.118786066174507\n",
      "[2, 400] loss: 1.0501513150334358\n",
      "[2, 500] loss: 1.0741989076137544\n",
      "[2, 600] loss: 1.0476237019896508\n",
      "[2, 700] loss: 1.0580292689800261\n",
      "[2, 800] loss: 0.9747830486297607\n",
      "Epoch 2 complete after 1731 seconds\n",
      "[3, 100] loss: 0.9206368863582611\n",
      "[3, 200] loss: 0.9211164352297783\n",
      "[3, 300] loss: 0.8703913089632987\n",
      "[3, 400] loss: 0.8847077186405659\n",
      "[3, 500] loss: 0.8679471503198147\n",
      "[3, 600] loss: 0.9438100576400756\n",
      "[3, 700] loss: 0.8423341657221317\n",
      "[3, 800] loss: 0.8335633471608161\n",
      "Epoch 3 complete after 1742 seconds\n",
      "[4, 100] loss: 0.8251716339588165\n",
      "[4, 200] loss: 0.7700160123407841\n",
      "[4, 300] loss: 0.8243816584348679\n",
      "[4, 400] loss: 0.7773939217627048\n",
      "[4, 500] loss: 0.7770674875378609\n",
      "[4, 600] loss: 0.7878773710131646\n",
      "[4, 700] loss: 0.7382971800863742\n",
      "[4, 800] loss: 0.767657013386488\n",
      "Epoch 4 complete after 1685 seconds\n",
      "[5, 100] loss: 0.7587888279557228\n",
      "[5, 200] loss: 0.730801887512207\n",
      "[5, 300] loss: 0.7110046353936196\n",
      "[5, 400] loss: 0.6993639747798442\n",
      "[5, 500] loss: 0.6526844674348831\n",
      "[5, 600] loss: 0.6762413318455219\n",
      "[5, 700] loss: 0.7020639415085316\n",
      "[5, 800] loss: 0.7036068649590015\n",
      "Epoch 5 complete after 1691 seconds\n",
      "[6, 100] loss: 0.6498775164783\n",
      "[6, 200] loss: 0.6304459251463413\n",
      "[6, 300] loss: 0.6680840650200843\n",
      "[6, 400] loss: 0.6594010569900274\n",
      "[6, 500] loss: 0.7065450200438499\n",
      "[6, 600] loss: 0.6208541963994503\n",
      "[6, 700] loss: 0.6241112957894802\n",
      "[6, 800] loss: 0.6353458473086357\n",
      "Epoch 6 complete after 1696 seconds\n",
      "[7, 100] loss: 0.6538179986178875\n",
      "[7, 200] loss: 0.6027670283615589\n",
      "[7, 300] loss: 0.6251017469912767\n",
      "[7, 400] loss: 0.6398669755458832\n",
      "[7, 500] loss: 0.5758953706920147\n",
      "[7, 600] loss: 0.6078128948807716\n",
      "[7, 700] loss: 0.6260282829403877\n",
      "[7, 800] loss: 0.7074478307366371\n",
      "Epoch 7 complete after 1686 seconds\n",
      "[8, 100] loss: 0.6159910863637924\n",
      "[8, 200] loss: 0.5580645448714495\n",
      "[8, 300] loss: 0.6004923798143864\n",
      "[8, 400] loss: 0.5668010108172894\n",
      "[8, 500] loss: 0.6067814584076404\n",
      "[8, 600] loss: 0.5954569227993488\n",
      "[8, 700] loss: 0.5973973055183888\n",
      "[8, 800] loss: 0.6463575555384159\n",
      "Epoch 8 complete after 1693 seconds\n",
      "[9, 100] loss: 0.5563731476664543\n",
      "[9, 200] loss: 0.6151318196952343\n",
      "[9, 300] loss: 0.5983585378527642\n",
      "[9, 400] loss: 0.6236542728543282\n",
      "[9, 500] loss: 0.5503184322267771\n",
      "[9, 600] loss: 0.6072415319085122\n",
      "[9, 700] loss: 0.5642900615930557\n",
      "[9, 800] loss: 0.5659403537213802\n",
      "Epoch 9 complete after 1695 seconds\n",
      "[10, 100] loss: 0.5900115150213242\n",
      "[10, 200] loss: 0.5552636803686619\n",
      "[10, 300] loss: 0.6587803694605827\n",
      "[10, 400] loss: 0.6182131117582321\n",
      "[10, 500] loss: 0.7190309795737266\n",
      "[10, 600] loss: 0.5743999049067497\n",
      "[10, 700] loss: 0.6000133377313613\n",
      "[10, 800] loss: 0.5732179138064385\n",
      "Epoch 10 complete after 1686 seconds\n",
      "[11, 100] loss: 0.5796861071884633\n",
      "[11, 200] loss: 0.6466479900479317\n",
      "[11, 300] loss: 0.5501670344918966\n",
      "[11, 400] loss: 0.5502106983959675\n",
      "[11, 500] loss: 0.5481682419776917\n",
      "[11, 600] loss: 0.5522175569832325\n",
      "[11, 700] loss: 0.5989850769937038\n",
      "[11, 800] loss: 0.5704252089560032\n",
      "Epoch 11 complete after 1680 seconds\n",
      "[12, 100] loss: 0.5971217745542526\n",
      "[12, 200] loss: 0.607386291474104\n",
      "[12, 300] loss: 0.5963024085760117\n",
      "[12, 400] loss: 0.5829799647629261\n",
      "[12, 500] loss: 0.55236546844244\n",
      "[12, 600] loss: 0.5370189195126295\n",
      "[12, 700] loss: 0.5519314995408058\n",
      "[12, 800] loss: 0.5791921649873256\n",
      "Epoch 12 complete after 1681 seconds\n",
      "[13, 100] loss: 0.5832084701955318\n",
      "[13, 200] loss: 0.6229198659956455\n",
      "[13, 300] loss: 0.6377516767382622\n",
      "[13, 400] loss: 0.557644149363041\n",
      "[13, 500] loss: 0.5738833792507648\n",
      "[13, 600] loss: 0.5748526237905025\n",
      "[13, 700] loss: 0.5663458815217018\n",
      "[13, 800] loss: 0.5140275326371193\n",
      "Epoch 13 complete after 1683 seconds\n",
      "[14, 100] loss: 0.6184978502988815\n",
      "[14, 200] loss: 0.5785920199751854\n",
      "[14, 300] loss: 0.5968681314587593\n",
      "[14, 400] loss: 0.5433416417241097\n",
      "[14, 500] loss: 0.565797957777977\n",
      "[14, 600] loss: 0.5588379929959774\n",
      "[14, 700] loss: 0.5548842066526413\n",
      "[14, 800] loss: 0.5752389478683472\n",
      "Epoch 14 complete after 1677 seconds\n",
      "[15, 100] loss: 0.5811474598944187\n",
      "[15, 200] loss: 0.5167798042297364\n",
      "[15, 300] loss: 0.6575199961662292\n",
      "[15, 400] loss: 0.5700027486681938\n",
      "[15, 500] loss: 0.5382448180764914\n",
      "[15, 600] loss: 0.5245505201816559\n",
      "[15, 700] loss: 0.5290438431501389\n",
      "[15, 800] loss: 0.573063208758831\n",
      "Epoch 15 complete after 1677 seconds\n",
      "[16, 100] loss: 0.5382958783209324\n",
      "[16, 200] loss: 0.524224474132061\n",
      "[16, 300] loss: 0.6010089030861855\n",
      "[16, 400] loss: 0.6753485031425953\n",
      "[16, 500] loss: 0.8486249634623527\n",
      "[16, 600] loss: 0.5746394376456737\n",
      "[16, 700] loss: 0.5344558772444725\n",
      "[16, 800] loss: 0.5477399066090584\n",
      "Epoch 16 complete after 1686 seconds\n",
      "[17, 100] loss: 0.5480963331460953\n",
      "[17, 200] loss: 0.5005468889325857\n",
      "[17, 300] loss: 0.5675054123997688\n",
      "[17, 400] loss: 0.5315135319530964\n",
      "[17, 500] loss: 0.5252657541632653\n",
      "[17, 600] loss: 0.5469694323837757\n",
      "[17, 700] loss: 0.5660852816700935\n",
      "[17, 800] loss: 0.5751904672384263\n",
      "Epoch 17 complete after 1676 seconds\n",
      "[18, 100] loss: 0.546517396569252\n",
      "[18, 200] loss: 0.49854019299149516\n",
      "[18, 300] loss: 0.5716386492550373\n",
      "[18, 400] loss: 0.55365419536829\n",
      "[18, 500] loss: 0.587772263288498\n",
      "[18, 600] loss: 0.5308050191402436\n",
      "[18, 700] loss: 0.5519554176926613\n",
      "[18, 800] loss: 0.546697520762682\n",
      "Epoch 18 complete after 1682 seconds\n",
      "[19, 100] loss: 0.5999813683331012\n",
      "[19, 200] loss: 0.5122056412696838\n",
      "[19, 300] loss: 0.4977939672023058\n",
      "[19, 400] loss: 0.49934360936284067\n",
      "[19, 500] loss: 0.5850278414785862\n",
      "[19, 600] loss: 0.586214584261179\n",
      "[19, 700] loss: 0.764215525984764\n",
      "[19, 800] loss: 0.6139264866709709\n",
      "Epoch 19 complete after 1676 seconds\n",
      "[20, 100] loss: 0.5327714416384697\n",
      "[20, 200] loss: 0.5207386064529419\n",
      "[20, 300] loss: 0.5523089495301247\n",
      "[20, 400] loss: 0.5024478258937597\n",
      "[20, 500] loss: 0.48568552292883393\n",
      "[20, 600] loss: 0.5306619223952294\n",
      "[20, 700] loss: 0.5015561486780643\n",
      "[20, 800] loss: 0.5116082236170769\n",
      "Epoch 20 complete after 1681 seconds\n",
      "[21, 100] loss: 0.47140437334775925\n",
      "[21, 200] loss: 0.4567509673535824\n",
      "[21, 300] loss: 0.5243103104829788\n",
      "[21, 400] loss: 0.5548881179094315\n",
      "[21, 500] loss: 0.5757236608862877\n",
      "[21, 600] loss: 0.5315235228836537\n",
      "[21, 700] loss: 0.4875028279423714\n",
      "[21, 800] loss: 0.5674963068962097\n",
      "Epoch 21 complete after 1680 seconds\n",
      "[22, 100] loss: 0.48513280250132085\n",
      "[22, 200] loss: 0.5082690235972405\n",
      "[22, 300] loss: 0.5131368592381478\n",
      "[22, 400] loss: 0.49072950065135956\n",
      "[22, 500] loss: 0.538978967666626\n",
      "[22, 600] loss: 0.5047047388553619\n",
      "[22, 700] loss: 0.5100404241681099\n",
      "[22, 800] loss: 0.5374278527498245\n",
      "Epoch 22 complete after 3172 seconds\n",
      "[23, 100] loss: 0.5251942200958729\n",
      "[23, 200] loss: 0.5574072432518006\n",
      "[23, 300] loss: 0.5535728795826436\n",
      "[23, 400] loss: 0.49344008788466454\n",
      "[23, 500] loss: 0.48592395067214966\n",
      "[23, 600] loss: 0.49915624886751175\n",
      "[23, 700] loss: 0.5095623596012593\n",
      "[23, 800] loss: 0.5123894342780113\n",
      "Epoch 23 complete after 1874 seconds\n",
      "[24, 100] loss: 0.5116343832015992\n",
      "[24, 200] loss: 0.5643792504072189\n",
      "[24, 300] loss: 0.513100928068161\n",
      "[24, 400] loss: 0.5401579090952873\n",
      "[24, 500] loss: 0.5706319308280945\n",
      "[24, 600] loss: 0.49840234011411666\n",
      "[24, 700] loss: 0.48904122740030287\n",
      "[24, 800] loss: 0.4850341773033142\n",
      "Epoch 24 complete after 1738 seconds\n",
      "[25, 100] loss: 0.5155555161088705\n",
      "[25, 200] loss: 0.5441815254092216\n"
     ]
    },
    {
     "ename": "KeyboardInterrupt",
     "evalue": "",
     "output_type": "error",
     "traceback": [
      "\u001b[0;31m---------------------------------------------------------------------------\u001b[0m",
      "\u001b[0;31mKeyboardInterrupt\u001b[0m                         Traceback (most recent call last)",
      "\u001b[0;32m<ipython-input-5-a75c7ddf4625>\u001b[0m in \u001b[0;36m<module>\u001b[0;34m\u001b[0m\n\u001b[1;32m      5\u001b[0m \u001b[0;34m\u001b[0m\u001b[0m\n\u001b[1;32m      6\u001b[0m     \u001b[0mrunning_loss\u001b[0m \u001b[0;34m=\u001b[0m \u001b[0;36m0.0\u001b[0m\u001b[0;34m\u001b[0m\u001b[0;34m\u001b[0m\u001b[0m\n\u001b[0;32m----> 7\u001b[0;31m     \u001b[0;32mfor\u001b[0m \u001b[0mbatch_idx\u001b[0m\u001b[0;34m,\u001b[0m \u001b[0;34m(\u001b[0m\u001b[0mimages\u001b[0m\u001b[0;34m,\u001b[0m \u001b[0mtargets\u001b[0m\u001b[0;34m)\u001b[0m \u001b[0;32min\u001b[0m \u001b[0menumerate\u001b[0m\u001b[0;34m(\u001b[0m\u001b[0mdataloader\u001b[0m\u001b[0;34m,\u001b[0m \u001b[0;36m0\u001b[0m\u001b[0;34m)\u001b[0m\u001b[0;34m:\u001b[0m\u001b[0;34m\u001b[0m\u001b[0;34m\u001b[0m\u001b[0m\n\u001b[0m\u001b[1;32m      8\u001b[0m         \u001b[0;31m# show_batch(images, targets)\u001b[0m\u001b[0;34m\u001b[0m\u001b[0;34m\u001b[0m\u001b[0;34m\u001b[0m\u001b[0m\n\u001b[1;32m      9\u001b[0m         \u001b[0moptimizer\u001b[0m\u001b[0;34m.\u001b[0m\u001b[0mzero_grad\u001b[0m\u001b[0;34m(\u001b[0m\u001b[0;34m)\u001b[0m\u001b[0;34m\u001b[0m\u001b[0;34m\u001b[0m\u001b[0m\n",
      "\u001b[0;32m/usr/local/lib/python3.7/site-packages/torch/utils/data/dataloader.py\u001b[0m in \u001b[0;36m__next__\u001b[0;34m(self)\u001b[0m\n\u001b[1;32m    558\u001b[0m         \u001b[0;32mif\u001b[0m \u001b[0mself\u001b[0m\u001b[0;34m.\u001b[0m\u001b[0mnum_workers\u001b[0m \u001b[0;34m==\u001b[0m \u001b[0;36m0\u001b[0m\u001b[0;34m:\u001b[0m  \u001b[0;31m# same-process loading\u001b[0m\u001b[0;34m\u001b[0m\u001b[0;34m\u001b[0m\u001b[0m\n\u001b[1;32m    559\u001b[0m             \u001b[0mindices\u001b[0m \u001b[0;34m=\u001b[0m \u001b[0mnext\u001b[0m\u001b[0;34m(\u001b[0m\u001b[0mself\u001b[0m\u001b[0;34m.\u001b[0m\u001b[0msample_iter\u001b[0m\u001b[0;34m)\u001b[0m  \u001b[0;31m# may raise StopIteration\u001b[0m\u001b[0;34m\u001b[0m\u001b[0;34m\u001b[0m\u001b[0m\n\u001b[0;32m--> 560\u001b[0;31m             \u001b[0mbatch\u001b[0m \u001b[0;34m=\u001b[0m \u001b[0mself\u001b[0m\u001b[0;34m.\u001b[0m\u001b[0mcollate_fn\u001b[0m\u001b[0;34m(\u001b[0m\u001b[0;34m[\u001b[0m\u001b[0mself\u001b[0m\u001b[0;34m.\u001b[0m\u001b[0mdataset\u001b[0m\u001b[0;34m[\u001b[0m\u001b[0mi\u001b[0m\u001b[0;34m]\u001b[0m \u001b[0;32mfor\u001b[0m \u001b[0mi\u001b[0m \u001b[0;32min\u001b[0m \u001b[0mindices\u001b[0m\u001b[0;34m]\u001b[0m\u001b[0;34m)\u001b[0m\u001b[0;34m\u001b[0m\u001b[0;34m\u001b[0m\u001b[0m\n\u001b[0m\u001b[1;32m    561\u001b[0m             \u001b[0;32mif\u001b[0m \u001b[0mself\u001b[0m\u001b[0;34m.\u001b[0m\u001b[0mpin_memory\u001b[0m\u001b[0;34m:\u001b[0m\u001b[0;34m\u001b[0m\u001b[0;34m\u001b[0m\u001b[0m\n\u001b[1;32m    562\u001b[0m                 \u001b[0mbatch\u001b[0m \u001b[0;34m=\u001b[0m \u001b[0m_utils\u001b[0m\u001b[0;34m.\u001b[0m\u001b[0mpin_memory\u001b[0m\u001b[0;34m.\u001b[0m\u001b[0mpin_memory_batch\u001b[0m\u001b[0;34m(\u001b[0m\u001b[0mbatch\u001b[0m\u001b[0;34m)\u001b[0m\u001b[0;34m\u001b[0m\u001b[0;34m\u001b[0m\u001b[0m\n",
      "\u001b[0;32m/usr/local/lib/python3.7/site-packages/torch/utils/data/dataloader.py\u001b[0m in \u001b[0;36m<listcomp>\u001b[0;34m(.0)\u001b[0m\n\u001b[1;32m    558\u001b[0m         \u001b[0;32mif\u001b[0m \u001b[0mself\u001b[0m\u001b[0;34m.\u001b[0m\u001b[0mnum_workers\u001b[0m \u001b[0;34m==\u001b[0m \u001b[0;36m0\u001b[0m\u001b[0;34m:\u001b[0m  \u001b[0;31m# same-process loading\u001b[0m\u001b[0;34m\u001b[0m\u001b[0;34m\u001b[0m\u001b[0m\n\u001b[1;32m    559\u001b[0m             \u001b[0mindices\u001b[0m \u001b[0;34m=\u001b[0m \u001b[0mnext\u001b[0m\u001b[0;34m(\u001b[0m\u001b[0mself\u001b[0m\u001b[0;34m.\u001b[0m\u001b[0msample_iter\u001b[0m\u001b[0;34m)\u001b[0m  \u001b[0;31m# may raise StopIteration\u001b[0m\u001b[0;34m\u001b[0m\u001b[0;34m\u001b[0m\u001b[0m\n\u001b[0;32m--> 560\u001b[0;31m             \u001b[0mbatch\u001b[0m \u001b[0;34m=\u001b[0m \u001b[0mself\u001b[0m\u001b[0;34m.\u001b[0m\u001b[0mcollate_fn\u001b[0m\u001b[0;34m(\u001b[0m\u001b[0;34m[\u001b[0m\u001b[0mself\u001b[0m\u001b[0;34m.\u001b[0m\u001b[0mdataset\u001b[0m\u001b[0;34m[\u001b[0m\u001b[0mi\u001b[0m\u001b[0;34m]\u001b[0m \u001b[0;32mfor\u001b[0m \u001b[0mi\u001b[0m \u001b[0;32min\u001b[0m \u001b[0mindices\u001b[0m\u001b[0;34m]\u001b[0m\u001b[0;34m)\u001b[0m\u001b[0;34m\u001b[0m\u001b[0;34m\u001b[0m\u001b[0m\n\u001b[0m\u001b[1;32m    561\u001b[0m             \u001b[0;32mif\u001b[0m \u001b[0mself\u001b[0m\u001b[0;34m.\u001b[0m\u001b[0mpin_memory\u001b[0m\u001b[0;34m:\u001b[0m\u001b[0;34m\u001b[0m\u001b[0;34m\u001b[0m\u001b[0m\n\u001b[1;32m    562\u001b[0m                 \u001b[0mbatch\u001b[0m \u001b[0;34m=\u001b[0m \u001b[0m_utils\u001b[0m\u001b[0;34m.\u001b[0m\u001b[0mpin_memory\u001b[0m\u001b[0;34m.\u001b[0m\u001b[0mpin_memory_batch\u001b[0m\u001b[0;34m(\u001b[0m\u001b[0mbatch\u001b[0m\u001b[0;34m)\u001b[0m\u001b[0;34m\u001b[0m\u001b[0;34m\u001b[0m\u001b[0m\n",
      "\u001b[0;32m/usr/local/lib/python3.7/site-packages/torchvision/datasets/folder.py\u001b[0m in \u001b[0;36m__getitem__\u001b[0;34m(self, index)\u001b[0m\n\u001b[1;32m    136\u001b[0m         \"\"\"\n\u001b[1;32m    137\u001b[0m         \u001b[0mpath\u001b[0m\u001b[0;34m,\u001b[0m \u001b[0mtarget\u001b[0m \u001b[0;34m=\u001b[0m \u001b[0mself\u001b[0m\u001b[0;34m.\u001b[0m\u001b[0msamples\u001b[0m\u001b[0;34m[\u001b[0m\u001b[0mindex\u001b[0m\u001b[0;34m]\u001b[0m\u001b[0;34m\u001b[0m\u001b[0;34m\u001b[0m\u001b[0m\n\u001b[0;32m--> 138\u001b[0;31m         \u001b[0msample\u001b[0m \u001b[0;34m=\u001b[0m \u001b[0mself\u001b[0m\u001b[0;34m.\u001b[0m\u001b[0mloader\u001b[0m\u001b[0;34m(\u001b[0m\u001b[0mpath\u001b[0m\u001b[0;34m)\u001b[0m\u001b[0;34m\u001b[0m\u001b[0;34m\u001b[0m\u001b[0m\n\u001b[0m\u001b[1;32m    139\u001b[0m         \u001b[0;32mif\u001b[0m \u001b[0mself\u001b[0m\u001b[0;34m.\u001b[0m\u001b[0mtransform\u001b[0m \u001b[0;32mis\u001b[0m \u001b[0;32mnot\u001b[0m \u001b[0;32mNone\u001b[0m\u001b[0;34m:\u001b[0m\u001b[0;34m\u001b[0m\u001b[0;34m\u001b[0m\u001b[0m\n\u001b[1;32m    140\u001b[0m             \u001b[0msample\u001b[0m \u001b[0;34m=\u001b[0m \u001b[0mself\u001b[0m\u001b[0;34m.\u001b[0m\u001b[0mtransform\u001b[0m\u001b[0;34m(\u001b[0m\u001b[0msample\u001b[0m\u001b[0;34m)\u001b[0m\u001b[0;34m\u001b[0m\u001b[0;34m\u001b[0m\u001b[0m\n",
      "\u001b[0;32m/usr/local/lib/python3.7/site-packages/torchvision/datasets/folder.py\u001b[0m in \u001b[0;36mdefault_loader\u001b[0;34m(path)\u001b[0m\n\u001b[1;32m    172\u001b[0m         \u001b[0;32mreturn\u001b[0m \u001b[0maccimage_loader\u001b[0m\u001b[0;34m(\u001b[0m\u001b[0mpath\u001b[0m\u001b[0;34m)\u001b[0m\u001b[0;34m\u001b[0m\u001b[0;34m\u001b[0m\u001b[0m\n\u001b[1;32m    173\u001b[0m     \u001b[0;32melse\u001b[0m\u001b[0;34m:\u001b[0m\u001b[0;34m\u001b[0m\u001b[0;34m\u001b[0m\u001b[0m\n\u001b[0;32m--> 174\u001b[0;31m         \u001b[0;32mreturn\u001b[0m \u001b[0mpil_loader\u001b[0m\u001b[0;34m(\u001b[0m\u001b[0mpath\u001b[0m\u001b[0;34m)\u001b[0m\u001b[0;34m\u001b[0m\u001b[0;34m\u001b[0m\u001b[0m\n\u001b[0m\u001b[1;32m    175\u001b[0m \u001b[0;34m\u001b[0m\u001b[0m\n\u001b[1;32m    176\u001b[0m \u001b[0;34m\u001b[0m\u001b[0m\n",
      "\u001b[0;32m/usr/local/lib/python3.7/site-packages/torchvision/datasets/folder.py\u001b[0m in \u001b[0;36mpil_loader\u001b[0;34m(path)\u001b[0m\n\u001b[1;32m    155\u001b[0m     \u001b[0;32mwith\u001b[0m \u001b[0mopen\u001b[0m\u001b[0;34m(\u001b[0m\u001b[0mpath\u001b[0m\u001b[0;34m,\u001b[0m \u001b[0;34m'rb'\u001b[0m\u001b[0;34m)\u001b[0m \u001b[0;32mas\u001b[0m \u001b[0mf\u001b[0m\u001b[0;34m:\u001b[0m\u001b[0;34m\u001b[0m\u001b[0;34m\u001b[0m\u001b[0m\n\u001b[1;32m    156\u001b[0m         \u001b[0mimg\u001b[0m \u001b[0;34m=\u001b[0m \u001b[0mImage\u001b[0m\u001b[0;34m.\u001b[0m\u001b[0mopen\u001b[0m\u001b[0;34m(\u001b[0m\u001b[0mf\u001b[0m\u001b[0;34m)\u001b[0m\u001b[0;34m\u001b[0m\u001b[0;34m\u001b[0m\u001b[0m\n\u001b[0;32m--> 157\u001b[0;31m         \u001b[0;32mreturn\u001b[0m \u001b[0mimg\u001b[0m\u001b[0;34m.\u001b[0m\u001b[0mconvert\u001b[0m\u001b[0;34m(\u001b[0m\u001b[0;34m'RGB'\u001b[0m\u001b[0;34m)\u001b[0m\u001b[0;34m\u001b[0m\u001b[0;34m\u001b[0m\u001b[0m\n\u001b[0m\u001b[1;32m    158\u001b[0m \u001b[0;34m\u001b[0m\u001b[0m\n\u001b[1;32m    159\u001b[0m \u001b[0;34m\u001b[0m\u001b[0m\n",
      "\u001b[0;32m/usr/local/lib/python3.7/site-packages/PIL/Image.py\u001b[0m in \u001b[0;36mconvert\u001b[0;34m(self, mode, matrix, dither, palette, colors)\u001b[0m\n\u001b[1;32m    910\u001b[0m         \"\"\"\n\u001b[1;32m    911\u001b[0m \u001b[0;34m\u001b[0m\u001b[0m\n\u001b[0;32m--> 912\u001b[0;31m         \u001b[0mself\u001b[0m\u001b[0;34m.\u001b[0m\u001b[0mload\u001b[0m\u001b[0;34m(\u001b[0m\u001b[0;34m)\u001b[0m\u001b[0;34m\u001b[0m\u001b[0;34m\u001b[0m\u001b[0m\n\u001b[0m\u001b[1;32m    913\u001b[0m \u001b[0;34m\u001b[0m\u001b[0m\n\u001b[1;32m    914\u001b[0m         \u001b[0;32mif\u001b[0m \u001b[0;32mnot\u001b[0m \u001b[0mmode\u001b[0m \u001b[0;32mand\u001b[0m \u001b[0mself\u001b[0m\u001b[0;34m.\u001b[0m\u001b[0mmode\u001b[0m \u001b[0;34m==\u001b[0m \u001b[0;34m\"P\"\u001b[0m\u001b[0;34m:\u001b[0m\u001b[0;34m\u001b[0m\u001b[0;34m\u001b[0m\u001b[0m\n",
      "\u001b[0;32m/usr/local/lib/python3.7/site-packages/PIL/ImageFile.py\u001b[0m in \u001b[0;36mload\u001b[0;34m(self)\u001b[0m\n\u001b[1;32m    240\u001b[0m \u001b[0;34m\u001b[0m\u001b[0m\n\u001b[1;32m    241\u001b[0m                             \u001b[0mb\u001b[0m \u001b[0;34m=\u001b[0m \u001b[0mb\u001b[0m \u001b[0;34m+\u001b[0m \u001b[0ms\u001b[0m\u001b[0;34m\u001b[0m\u001b[0;34m\u001b[0m\u001b[0m\n\u001b[0;32m--> 242\u001b[0;31m                             \u001b[0mn\u001b[0m\u001b[0;34m,\u001b[0m \u001b[0merr_code\u001b[0m \u001b[0;34m=\u001b[0m \u001b[0mdecoder\u001b[0m\u001b[0;34m.\u001b[0m\u001b[0mdecode\u001b[0m\u001b[0;34m(\u001b[0m\u001b[0mb\u001b[0m\u001b[0;34m)\u001b[0m\u001b[0;34m\u001b[0m\u001b[0;34m\u001b[0m\u001b[0m\n\u001b[0m\u001b[1;32m    243\u001b[0m                             \u001b[0;32mif\u001b[0m \u001b[0mn\u001b[0m \u001b[0;34m<\u001b[0m \u001b[0;36m0\u001b[0m\u001b[0;34m:\u001b[0m\u001b[0;34m\u001b[0m\u001b[0;34m\u001b[0m\u001b[0m\n\u001b[1;32m    244\u001b[0m                                 \u001b[0;32mbreak\u001b[0m\u001b[0;34m\u001b[0m\u001b[0;34m\u001b[0m\u001b[0m\n",
      "\u001b[0;31mKeyboardInterrupt\u001b[0m: "
     ]
    }
   ],
   "source": [
    "from datetime import datetime\n",
    "\n",
    "for epoch in range(30):\n",
    "    start_time = datetime.now()\n",
    "    \n",
    "    running_loss = 0.0\n",
    "    for batch_idx, (images, targets) in enumerate(dataloader, 0):\n",
    "        # show_batch(images, targets)\n",
    "        optimizer.zero_grad()\n",
    "        \n",
    "        outputs = die_net(images)\n",
    "        loss = criterion(outputs, targets)\n",
    "        loss.backward()\n",
    "        optimizer.step()\n",
    "        \n",
    "        running_loss += loss.item()\n",
    "        if batch_idx % 100 == 99:\n",
    "            print(f'[{epoch + 1}, {batch_idx + 1}] loss: {running_loss / 100}')\n",
    "            running_loss = 0.0\n",
    "    elapsed_time = datetime.now() - start_time\n",
    "    print(f'Epoch {epoch + 1} complete after {elapsed_time.seconds} seconds')\n",
    "    \n",
    "    torch.save(die_net.state_dict(), f'../saved_weights/die_net_v2_epoch{epoch + 1}.pth')\n",
    "\n",
    "print('Finished!')"
   ]
  },
  {
   "cell_type": "code",
   "execution_count": 6,
   "metadata": {},
   "outputs": [],
   "source": [
    "val_dataset, val_dataloader = load_dice_dataset('valid')"
   ]
  },
  {
   "cell_type": "code",
   "execution_count": 24,
   "metadata": {
    "scrolled": false
   },
   "outputs": [
    {
     "name": "stdout",
     "output_type": "stream",
     "text": [
      "Confusion matrix:\n",
      "tensor([[231.,   6.,   0.,   2.,   1.,   0.],\n",
      "        [  0.,   0.,   0.,   0.,   0.,   0.],\n",
      "        [  0.,   1., 463.,   5.,   1.,   0.],\n",
      "        [  0.,   0.,   0.,   0.,   0.,   0.],\n",
      "        [  1.,   6.,   1.,   9., 572.,   1.],\n",
      "        [ 14., 228.,  14., 262.,   4., 217.]])\n"
     ]
    }
   ],
   "source": [
    "# First index will be guessed class, second will be true class\n",
    "confusion_matrix = torch.zeros(n_classes, n_classes)\n",
    "\n",
    "print_this_many_outputs_directly = 0\n",
    "with torch.no_grad():\n",
    "    for val_batch, (images, targets) in enumerate(val_dataloader, 0):\n",
    "    #     show_batch(images, targets)\n",
    "        outputs = die_net(images)\n",
    "        \n",
    "        if print_this_many_outputs_directly:\n",
    "            print('Some raw network outputs:')\n",
    "            print(outputs)\n",
    "            print_this_many_outputs_directly -= 1\n",
    "        \n",
    "        _, predicted = torch.max(outputs, 1)\n",
    "        for guess, target in zip(predicted.tolist(), targets.tolist()):\n",
    "#             print(f'Guess: {class_from_idx[guess]}, Target: {class_from_idx[target]}')\n",
    "            confusion_matrix[guess, target] += 1\n",
    "\n",
    "print('Confusion matrix:')\n",
    "print(confusion_matrix)"
   ]
  },
  {
   "cell_type": "code",
   "execution_count": 8,
   "metadata": {},
   "outputs": [
    {
     "name": "stdout",
     "output_type": "stream",
     "text": [
      "tensor([[ 0.0000,  0.0000, 17.4824,  0.0000, 12.7442,  0.4030],\n",
      "        [ 0.0000,  0.0000,  0.0000,  0.0000,  0.0000,  0.0000],\n",
      "        [ 0.0000,  0.0000,  0.0000,  0.0000,  0.0000,  0.0000],\n",
      "        [ 0.0000,  0.0000,  0.7410,  0.0000, 59.1530,  2.4573],\n",
      "        [ 0.0000,  0.0000,  0.0000,  0.0000, 16.3997,  0.0000],\n",
      "        [ 0.0000,  0.0000,  0.0000,  0.0000,  0.6910, 31.3042],\n",
      "        [ 8.5705,  0.0000,  0.0000,  0.0000,  0.0000,  0.0000]])\n"
     ]
    }
   ],
   "source": [
    "print(outputs)"
   ]
  },
  {
   "cell_type": "code",
   "execution_count": 36,
   "metadata": {},
   "outputs": [
    {
     "name": "stdout",
     "output_type": "stream",
     "text": [
      "Overall accuracy: 72.73%\n",
      "Accuracy for d10: 96.25%\n",
      "Accuracy for d12: nan%\n",
      "Accuracy for d20: 98.51%\n",
      "Accuracy for d4 : nan%\n",
      "Accuracy for d6 : 96.95%\n",
      "Accuracy for d8 : 29.36%\n"
     ]
    }
   ],
   "source": [
    "from utilities.confusion_tools import print_overall_accuracy, print_class_accuracies\n",
    "\n",
    "\n",
    "print_overall_accuracy(confusion_matrix)\n",
    "print_class_accuracies(confusion_matrix, class_from_idx=class_from_idx)"
   ]
  },
  {
   "cell_type": "code",
   "execution_count": null,
   "metadata": {},
   "outputs": [],
   "source": [
    "# torch.save(die_net.state_dict(), '../saved_weights/die_net_v2_weights.pth')"
   ]
  },
  {
   "cell_type": "code",
   "execution_count": 27,
   "metadata": {
    "scrolled": true
   },
   "outputs": [
    {
     "data": {
      "text/plain": [
       "tensor([231.,   0.,   0.,   0.,   1.,  14.])"
      ]
     },
     "execution_count": 27,
     "metadata": {},
     "output_type": "execute_result"
    }
   ],
   "source": [
    "confusion_matrix[:, 0]"
   ]
  },
  {
   "cell_type": "code",
   "execution_count": null,
   "metadata": {},
   "outputs": [],
   "source": []
  }
 ],
 "metadata": {
  "kernelspec": {
   "display_name": "Python 3",
   "language": "python",
   "name": "python3"
  },
  "language_info": {
   "codemirror_mode": {
    "name": "ipython",
    "version": 3
   },
   "file_extension": ".py",
   "mimetype": "text/x-python",
   "name": "python",
   "nbconvert_exporter": "python",
   "pygments_lexer": "ipython3",
   "version": "3.7.3"
  }
 },
 "nbformat": 4,
 "nbformat_minor": 2
}
